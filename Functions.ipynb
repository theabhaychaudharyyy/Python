{
 "cells": [
  {
   "cell_type": "code",
   "execution_count": null,
   "id": "266680cb-137d-4632-a95d-dd18ba285557",
   "metadata": {},
   "outputs": [],
   "source": [
    "##Defining functions\n",
    "##Calling functions\n",
    "##Function parameters\n",
    "##Default Parameters\n",
    "##Variable length Arguments\n",
    "##Return Statement"
   ]
  },
  {
   "cell_type": "code",
   "execution_count": null,
   "id": "a8f365df-34d0-4d31-9d9d-8fab22f4dc92",
   "metadata": {},
   "outputs": [],
   "source": [
    "def function_name (parameters):\n",
    "    ##function body\n",
    "    return expression"
   ]
  },
  {
   "cell_type": "code",
   "execution_count": 1,
   "id": "ca9e92f1-4133-4b8e-89fc-136df930a49e",
   "metadata": {},
   "outputs": [],
   "source": [
    "##Creating a function\n",
    "def even_odd (num):\n",
    "    if num%2==0:\n",
    "        print(\"no. is even\")\n",
    "    else:\n",
    "        print(\"no. is odd\")"
   ]
  },
  {
   "cell_type": "code",
   "execution_count": 5,
   "id": "b7d1b763-f95f-45b5-8a87-17d7ca5db831",
   "metadata": {},
   "outputs": [
    {
     "name": "stdout",
     "output_type": "stream",
     "text": [
      "no. is even\n"
     ]
    }
   ],
   "source": [
    "##Calling a function\n",
    "even_odd(24)"
   ]
  },
  {
   "cell_type": "code",
   "execution_count": 7,
   "id": "d9d59a3a-1b26-4433-ab39-21337f580888",
   "metadata": {},
   "outputs": [
    {
     "name": "stdout",
     "output_type": "stream",
     "text": [
      "300\n"
     ]
    }
   ],
   "source": [
    "##Functions with multiple parameters\n",
    "def add(a,b):\n",
    "    return a+b\n",
    "\n",
    "result=add(100,200)\n",
    "print(result)"
   ]
  },
  {
   "cell_type": "code",
   "execution_count": 11,
   "id": "7f67c059-5c2c-41aa-806c-c9234bac14eb",
   "metadata": {},
   "outputs": [
    {
     "name": "stdout",
     "output_type": "stream",
     "text": [
      "Hello Abhay\n"
     ]
    }
   ],
   "source": [
    "##Default parameters\n",
    "def greet(name):\n",
    "    print(f\"Hello {name}\")\n",
    "\n",
    "greet('Abhay')"
   ]
  },
  {
   "cell_type": "code",
   "execution_count": 19,
   "id": "faad05d9-0107-4ec2-8c73-15367035c22a",
   "metadata": {},
   "outputs": [
    {
     "name": "stdout",
     "output_type": "stream",
     "text": [
      "1\n",
      "2\n",
      "3\n",
      "4\n",
      "5\n",
      "6\n",
      "7\n",
      "8\n",
      "9\n",
      "10\n"
     ]
    }
   ],
   "source": [
    "##positional Arguments (If we don’t know how many arguments will be passed into a function)\n",
    "def print_numbers(*args):\n",
    "    for numbers in args:\n",
    "        print(numbers)\n",
    "\n",
    "print_numbers(1,2,3,4,5,6,7,8,9,10)"
   ]
  },
  {
   "cell_type": "code",
   "execution_count": 25,
   "id": "6f93db23-e862-4e09-a197-696c0d6545fe",
   "metadata": {},
   "outputs": [],
   "source": [
    "##(It takes the information in key value pairs)\n",
    "def print_details(**kwargs):\n",
    "    for key, value in kwargs.items():\n",
    "        print(f\"{key}:{value}\")"
   ]
  },
  {
   "cell_type": "code",
   "execution_count": 27,
   "id": "7d1be43a-d777-45b2-bda5-cc477418a704",
   "metadata": {},
   "outputs": [
    {
     "name": "stdout",
     "output_type": "stream",
     "text": [
      "name:Abhay\n",
      "age:21\n"
     ]
    }
   ],
   "source": [
    "print_details(name='Abhay',age='21')"
   ]
  },
  {
   "cell_type": "code",
   "execution_count": 31,
   "id": "30c92a9d-aaff-40d6-93be-f389456f8c78",
   "metadata": {},
   "outputs": [
    {
     "data": {
      "text/plain": [
       "6"
      ]
     },
     "execution_count": 31,
     "metadata": {},
     "output_type": "execute_result"
    }
   ],
   "source": [
    "##Return Statement\n",
    "def multiply(a,b):\n",
    "    return a*b\n",
    "\n",
    "multiply(2,3)"
   ]
  },
  {
   "cell_type": "code",
   "execution_count": 37,
   "id": "5b3d0272-f3dd-43ab-a0b0-3aa752cb1eba",
   "metadata": {},
   "outputs": [
    {
     "data": {
      "text/plain": [
       "100.4"
      ]
     },
     "execution_count": 37,
     "metadata": {},
     "output_type": "execute_result"
    }
   ],
   "source": [
    "##Temperature conversion\n",
    "\n",
    "def convert_temperature(temp, unit):\n",
    "    if unit == \"C\":\n",
    "        return (temp * 9/5) + 32\n",
    "    elif unit == \"F\":\n",
    "        return (temp-32) * 5/9\n",
    "\n",
    "convert_temperature(38, 'C')"
   ]
  },
  {
   "cell_type": "code",
   "execution_count": null,
   "id": "27ac812b-2367-4a1d-b985-a5e115d32423",
   "metadata": {},
   "outputs": [],
   "source": [
    "def strong_password(password):\n",
    "    if len(password)<8:\n",
    "        return False:\n",
    "        \n",
    "    \n",
    "    "
   ]
  }
 ],
 "metadata": {
  "kernelspec": {
   "display_name": "Python 3 (ipykernel)",
   "language": "python",
   "name": "python3"
  },
  "language_info": {
   "codemirror_mode": {
    "name": "ipython",
    "version": 3
   },
   "file_extension": ".py",
   "mimetype": "text/x-python",
   "name": "python",
   "nbconvert_exporter": "python",
   "pygments_lexer": "ipython3",
   "version": "3.12.7"
  }
 },
 "nbformat": 4,
 "nbformat_minor": 5
}
