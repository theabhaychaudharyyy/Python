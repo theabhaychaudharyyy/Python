{
 "cells": [
  {
   "cell_type": "code",
   "execution_count": 14,
   "id": "86e04af2-4af9-4aa8-acdb-8ffbaa2f9ce7",
   "metadata": {},
   "outputs": [
    {
     "data": {
      "text/plain": [
       "['Study', 'Code']"
      ]
     },
     "execution_count": 14,
     "metadata": {},
     "output_type": "execute_result"
    }
   ],
   "source": [
    "to_do_list=[\"Study\",\"Code\"]\n",
    "to_do_list"
   ]
  },
  {
   "cell_type": "code",
   "execution_count": 16,
   "id": "ea1b2765-a73e-4a9a-8b68-7551bc31df2e",
   "metadata": {},
   "outputs": [
    {
     "data": {
      "text/plain": [
       "['Study', 'Code', 'Go GYM', 'Study Hard']"
      ]
     },
     "execution_count": 16,
     "metadata": {},
     "output_type": "execute_result"
    }
   ],
   "source": [
    "##Adding task to list\n",
    "to_do_list.append(\"Go GYM\")\n",
    "to_do_list.append(\"Study Hard\")\n",
    "to_do_list"
   ]
  },
  {
   "cell_type": "code",
   "execution_count": 18,
   "id": "0afd3854-64e2-4728-a999-e564d897c3bf",
   "metadata": {},
   "outputs": [
    {
     "data": {
      "text/plain": [
       "['Study', 'Code', 'Study Hard']"
      ]
     },
     "execution_count": 18,
     "metadata": {},
     "output_type": "execute_result"
    }
   ],
   "source": [
    "##Removing task from List\n",
    "to_do_list.remove(\"Go GYM\")\n",
    "to_do_list"
   ]
  },
  {
   "cell_type": "code",
   "execution_count": 24,
   "id": "3e3b2666-6bee-46b8-ad50-998d41cef93b",
   "metadata": {},
   "outputs": [
    {
     "name": "stdout",
     "output_type": "stream",
     "text": [
      "Pdhle bhai\n"
     ]
    }
   ],
   "source": [
    "##Checking Whether something is present in list or not\n",
    "if \"Study Hard\" in to_do_list:\n",
    "    print(\"Pdhle bhai\")\n",
    "else:\n",
    "    print(\"Nhi tha\")"
   ]
  },
  {
   "cell_type": "code",
   "execution_count": 26,
   "id": "e7f11902-2507-441a-ad99-dedfc1012400",
   "metadata": {},
   "outputs": [],
   "source": [
    "##Set\n",
    "mytuple = (\"apple\", \"banana\", \"cherry\")"
   ]
  },
  {
   "cell_type": "code",
   "execution_count": 28,
   "id": "f15e3ee7-d65a-4587-a4eb-e91f2292302c",
   "metadata": {},
   "outputs": [
    {
     "name": "stdout",
     "output_type": "stream",
     "text": [
      "('apple', 'banana', 'cherry')\n"
     ]
    }
   ],
   "source": [
    "thistuple = (\"apple\", \"banana\", \"cherry\")\n",
    "print(thistuple)"
   ]
  },
  {
   "cell_type": "code",
   "execution_count": 30,
   "id": "457ef278-b35a-4441-a43e-daa005029d30",
   "metadata": {},
   "outputs": [
    {
     "name": "stdout",
     "output_type": "stream",
     "text": [
      "('apple', 'banana', 'cherry', 'apple', 'cherry')\n"
     ]
    }
   ],
   "source": [
    "thistuple = (\"apple\", \"banana\", \"cherry\", \"apple\", \"cherry\")\n",
    "print(thistuple)"
   ]
  },
  {
   "cell_type": "code",
   "execution_count": 32,
   "id": "a04aac98-f0e0-45c2-b8bb-832b620182d2",
   "metadata": {},
   "outputs": [
    {
     "name": "stdout",
     "output_type": "stream",
     "text": [
      "3\n"
     ]
    }
   ],
   "source": [
    "thistuple = (\"apple\", \"banana\", \"cherry\")\n",
    "print(len(thistuple))"
   ]
  },
  {
   "cell_type": "code",
   "execution_count": null,
   "id": "b51d43fe-fcfc-43a1-818f-4fc332d7f20b",
   "metadata": {},
   "outputs": [],
   "source": []
  }
 ],
 "metadata": {
  "kernelspec": {
   "display_name": "Python 3 (ipykernel)",
   "language": "python",
   "name": "python3"
  },
  "language_info": {
   "codemirror_mode": {
    "name": "ipython",
    "version": 3
   },
   "file_extension": ".py",
   "mimetype": "text/x-python",
   "name": "python",
   "nbconvert_exporter": "python",
   "pygments_lexer": "ipython3",
   "version": "3.12.7"
  }
 },
 "nbformat": 4,
 "nbformat_minor": 5
}
