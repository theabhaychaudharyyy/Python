{
 "cells": [
  {
   "cell_type": "code",
   "execution_count": 5,
   "id": "8ba050c5-797d-48fe-b74a-c9191a7017f7",
   "metadata": {},
   "outputs": [
    {
     "data": {
      "text/plain": [
       "'\\nthis is a multi\\nline comment\\n'"
      ]
     },
     "execution_count": 5,
     "metadata": {},
     "output_type": "execute_result"
    }
   ],
   "source": [
    "'''\n",
    "this is a multi\n",
    "line comment\n",
    "'''\n",
    "##But these ''' doesnot work in Jupyter notebook"
   ]
  },
  {
   "cell_type": "code",
   "execution_count": 7,
   "id": "3f598647-d694-43da-a0b1-a3fee92e8457",
   "metadata": {},
   "outputs": [],
   "source": [
    "##this is a single line comment"
   ]
  },
  {
   "cell_type": "code",
   "execution_count": 9,
   "id": "fe15d1cc-1853-4255-8377-6e6f949f10b3",
   "metadata": {},
   "outputs": [
    {
     "name": "stdout",
     "output_type": "stream",
     "text": [
      "Abhay\n",
      "Chaudhary\n"
     ]
    }
   ],
   "source": [
    "##python is case SENSITIVE\n",
    "name=\"Abhay\"\n",
    "Name=\"Chaudhary\"\n",
    "\n",
    "print(name)\n",
    "print(Name)"
   ]
  },
  {
   "cell_type": "code",
   "execution_count": 11,
   "id": "afbef697-b5d1-474f-9856-496d2f6a73ea",
   "metadata": {},
   "outputs": [
    {
     "name": "stdout",
     "output_type": "stream",
     "text": [
      "21\n"
     ]
    }
   ],
   "source": [
    "##line continuation\n",
    "total=1+2+3+4+\\\n",
    "5+6\n",
    "\n",
    "print(total)"
   ]
  },
  {
   "cell_type": "code",
   "execution_count": null,
   "id": "8ca820f0-175f-4bfc-bbb2-ed61aeb2123a",
   "metadata": {},
   "outputs": [],
   "source": [
    "##Python is dynamically typed, type of variable is determined at runtime."
   ]
  },
  {
   "cell_type": "code",
   "execution_count": 15,
   "id": "f002b794-453b-49d3-b964-76909af6eb94",
   "metadata": {},
   "outputs": [
    {
     "name": "stdout",
     "output_type": "stream",
     "text": [
      "30\n"
     ]
    }
   ],
   "source": [
    "##multiple statements in a single line\n",
    "x=10;y=20;z=x+y\n",
    "print(z)"
   ]
  },
  {
   "cell_type": "code",
   "execution_count": 17,
   "id": "fda2b865-9f48-4c66-9a5e-985831160982",
   "metadata": {},
   "outputs": [],
   "source": [
    "##Declaring variables\n",
    "age=21\n",
    "name=\"Abhay\"\n",
    "is_stud=True\n",
    "height=6.3"
   ]
  },
  {
   "cell_type": "code",
   "execution_count": 20,
   "id": "80deaaee-4f99-4999-9e3e-914106f7fbe2",
   "metadata": {},
   "outputs": [
    {
     "name": "stdout",
     "output_type": "stream",
     "text": [
      "21\n",
      "Abhay\n",
      "True\n",
      "6.3\n"
     ]
    }
   ],
   "source": [
    "print(age)\n",
    "print(name)\n",
    "print(is_stud)\n",
    "print(height)"
   ]
  },
  {
   "cell_type": "code",
   "execution_count": 22,
   "id": "72172ff6-50a3-4b2e-9993-8973e2153365",
   "metadata": {},
   "outputs": [
    {
     "name": "stdout",
     "output_type": "stream",
     "text": [
      "<class 'int'>\n",
      "<class 'str'>\n",
      "<class 'bool'>\n",
      "<class 'float'>\n"
     ]
    }
   ],
   "source": [
    "print(type(age))\n",
    "print(type(name))\n",
    "print(type(is_stud))\n",
    "print(type(height))"
   ]
  },
  {
   "cell_type": "code",
   "execution_count": 24,
   "id": "7bf1a609-e968-4b8c-ab46-6eed227c9713",
   "metadata": {},
   "outputs": [
    {
     "name": "stdout",
     "output_type": "stream",
     "text": [
      "<class 'int'>\n"
     ]
    }
   ],
   "source": [
    "##Type conversion\n",
    "age=21\n",
    "print(type(age))"
   ]
  },
  {
   "cell_type": "code",
   "execution_count": 30,
   "id": "3b9b2980-10a8-4add-879e-097b6c62f333",
   "metadata": {},
   "outputs": [
    {
     "name": "stdout",
     "output_type": "stream",
     "text": [
      "<class 'str'>\n"
     ]
    }
   ],
   "source": [
    "age_str=str(age)\n",
    "print(type(age_str))"
   ]
  },
  {
   "cell_type": "code",
   "execution_count": 34,
   "id": "35dc04da-ffc0-4e20-b892-f7bbfbed4275",
   "metadata": {},
   "outputs": [
    {
     "name": "stdout",
     "output_type": "stream",
     "text": [
      "10 <class 'int'>\n",
      "Abhay <class 'str'>\n",
      "3.14 <class 'float'>\n"
     ]
    }
   ],
   "source": [
    "##Dynamic Typing\n",
    "Var=10\n",
    "print(Var,type(Var))\n",
    "Var=\"Abhay\"\n",
    "print(Var,type(Var))\n",
    "Var=3.14\n",
    "print(Var,type(Var))"
   ]
  },
  {
   "cell_type": "code",
   "execution_count": 40,
   "id": "24ccb743-d03b-4d1b-a79e-af3ce78f5f3c",
   "metadata": {},
   "outputs": [
    {
     "name": "stdin",
     "output_type": "stream",
     "text": [
      "What is your age 21\n"
     ]
    },
    {
     "name": "stdout",
     "output_type": "stream",
     "text": [
      "age is : 21 <class 'str'>\n"
     ]
    }
   ],
   "source": [
    "##input\n",
    "age=input(\"What is your age\")\n",
    "print(\"age is :\",age, type(age))"
   ]
  },
  {
   "cell_type": "code",
   "execution_count": 44,
   "id": "88b36a13-c7a6-41c9-94a7-423c76756638",
   "metadata": {},
   "outputs": [
    {
     "name": "stdin",
     "output_type": "stream",
     "text": [
      " 4\n",
      " 5\n"
     ]
    },
    {
     "name": "stdout",
     "output_type": "stream",
     "text": [
      "add is : 9\n",
      "sub is : -1\n",
      "multiply is : 20\n",
      "divide is : 0.8\n"
     ]
    }
   ],
   "source": [
    "##calculator\n",
    "a=int(input())\n",
    "b=int(input())\n",
    "\n",
    "add= a+b\n",
    "sub= a-b\n",
    "multiply= a*b\n",
    "divide= a/b\n",
    "\n",
    "\n",
    "print(\"add is :\",add)\n",
    "print(\"sub is :\",sub)\n",
    "print(\"multiply is :\", multiply)\n",
    "print(\"divide is :\", divide)\n"
   ]
  },
  {
   "cell_type": "code",
   "execution_count": null,
   "id": "f5e76577-be62-4fbd-9662-9d573b74383b",
   "metadata": {},
   "outputs": [],
   "source": []
  },
  {
   "cell_type": "code",
   "execution_count": null,
   "id": "d14522d6-21f2-4f31-9d0c-52044d2e2134",
   "metadata": {},
   "outputs": [],
   "source": []
  }
 ],
 "metadata": {
  "kernelspec": {
   "display_name": "Python 3 (ipykernel)",
   "language": "python",
   "name": "python3"
  },
  "language_info": {
   "codemirror_mode": {
    "name": "ipython",
    "version": 3
   },
   "file_extension": ".py",
   "mimetype": "text/x-python",
   "name": "python",
   "nbconvert_exporter": "python",
   "pygments_lexer": "ipython3",
   "version": "3.12.7"
  }
 },
 "nbformat": 4,
 "nbformat_minor": 5
}
